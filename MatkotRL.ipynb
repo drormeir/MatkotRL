{
 "cells": [
  {
   "cell_type": "code",
   "execution_count": 1,
   "metadata": {},
   "outputs": [
    {
     "data": {
      "text/html": [
       "<style>.container { width:100% !important; }</style>"
      ],
      "text/plain": [
       "<IPython.core.display.HTML object>"
      ]
     },
     "metadata": {},
     "output_type": "display_data"
    }
   ],
   "source": [
    "from IPython.core.display import display, HTML\n",
    "display(HTML(\"<style>.container { width:100% !important; }</style>\"))\n",
    "\n",
    "import numpy as np\n",
    "import matplotlib.pyplot as plt\n",
    "%matplotlib inline\n",
    "\n",
    "from unity_environment_wrapper import unity_env, str_numbers\n",
    "from Multi_Agent_DDPG import Multi_MA_DDPG\n"
   ]
  },
  {
   "cell_type": "code",
   "execution_count": 2,
   "metadata": {},
   "outputs": [],
   "source": [
    "def fix_state6(self,state,prev_state=None):\n",
    "    state = np.reshape(state,(3,8))[:,0:6]\n",
    "    if prev_state is None:\n",
    "        state[0,:] = state[2,:]\n",
    "        state[1,:] = state[2,:]\n",
    "    else:\n",
    "        state[0,:] = prev_state[6:12]\n",
    "        state[1,:] = prev_state[12:]\n",
    "        #if abs(state[2,0]-state[1,0]) < 1e-6:\n",
    "        #    state[2,2] = 0.0\n",
    "        #if abs(state[2,1]-state[1,1]) < 1e-6:\n",
    "        #    state[2,3] = 0.0\n",
    "    return state.reshape(-1)\n",
    "\n",
    "def fix_state4(self,state,prev_state=None):\n",
    "    state = np.reshape(state,(3,8))[:,[0,1,4,5]]\n",
    "    if prev_state is None:\n",
    "        state[0,:] = state[2,:]\n",
    "        state[1,:] = state[2,:]\n",
    "    else:\n",
    "        state[0,:] = prev_state[4:8]\n",
    "        state[1,:] = prev_state[8:]\n",
    "    return state.reshape(-1)\n",
    "\n",
    "def modify_batch6(self):\n",
    "    if self.duplicate_augmented_batch > 1:\n",
    "        ind_start = self.batch_size\n",
    "        ind_end = self.batch_size*2\n",
    "        self.states[ind_start:ind_end,:,[4,10,16]] *= -1\n",
    "        self.next_states[ind_start:ind_end,:,[4,10,16]] *= -1\n",
    "        self.states[ind_start:ind_end,[0,1],:]      = self.states[ind_start:ind_end,[1,0],:]\n",
    "        self.actions[ind_start:ind_end,[0,1],:]     = self.actions[ind_start:ind_end,[1,0],:]\n",
    "        self.next_states[ind_start:ind_end,[0,1],:] = self.next_states[ind_start:ind_end,[1,0],:]\n",
    "        if self.rewards.shape[1] > 1:\n",
    "            self.rewards[ind_start:ind_end,[0,1]]   = self.rewards[ind_start:ind_end,[1,0]]\n",
    "        if self.dones.shape[1] > 1:\n",
    "            self.dones[ind_start:ind_end,[0,1]]     = self.dones[ind_start:ind_end,[1,0]]\n",
    "\n",
    "def modify_batch4(self):\n",
    "    if self.duplicate_augmented_batch > 1:\n",
    "        ind_start = self.batch_size\n",
    "        ind_end = self.batch_size*2\n",
    "        self.states[ind_start:ind_end,:,[2,6,10]] *= -1\n",
    "        self.next_states[ind_start:ind_end,:,[2,6,10]] *= -1\n",
    "        self.states[ind_start:ind_end,[0,1],:]      = self.states[ind_start:ind_end,[1,0],:]\n",
    "        self.actions[ind_start:ind_end,[0,1],:]     = self.actions[ind_start:ind_end,[1,0],:]\n",
    "        self.next_states[ind_start:ind_end,[0,1],:] = self.next_states[ind_start:ind_end,[1,0],:]\n",
    "        if self.rewards.shape[1] > 1:\n",
    "            self.rewards[ind_start:ind_end,[0,1]]   = self.rewards[ind_start:ind_end,[1,0]]\n",
    "        if self.dones.shape[1] > 1:\n",
    "            self.dones[ind_start:ind_end,[0,1]]     = self.dones[ind_start:ind_end,[1,0]]\n",
    "\n",
    "def modify_batch4_abs(self):\n",
    "    np.abs(self.states[:,:,[2,6,10]], out=self.states[:,:,[2,6,10]])\n",
    "    np.abs(self.next_states[:,:,[2,6,10]], out=self.next_states[:,:,[2,6,10]])\n",
    "    if self.duplicate_augmented_batch > 1:\n",
    "        ind_start = self.batch_size\n",
    "        ind_end = self.batch_size*2\n",
    "        self.states[ind_start:ind_end,[0,1],:]      = self.states[ind_start:ind_end,[1,0],:]\n",
    "        self.actions[ind_start:ind_end,[0,1],:]     = self.actions[ind_start:ind_end,[1,0],:]\n",
    "        self.next_states[ind_start:ind_end,[0,1],:] = self.next_states[ind_start:ind_end,[1,0],:]\n",
    "        if self.rewards.shape[1] > 1:\n",
    "            self.rewards[ind_start:ind_end,[0,1]]   = self.rewards[ind_start:ind_end,[1,0]]\n",
    "        if self.dones.shape[1] > 1:\n",
    "            self.dones[ind_start:ind_end,[0,1]]     = self.dones[ind_start:ind_end,[1,0]]\n",
    "\n",
    "    "
   ]
  },
  {
   "cell_type": "code",
   "execution_count": 3,
   "metadata": {},
   "outputs": [
    {
     "name": "stderr",
     "output_type": "stream",
     "text": [
      "INFO:unityagents:\n",
      "'Academy' started successfully!\n",
      "Unity Academy name: Academy\n",
      "        Number of Brains: 1\n",
      "        Number of External Brains : 1\n",
      "        Lesson number : 0\n",
      "        Reset Parameters :\n",
      "\t\t\n",
      "Unity brain name: TennisBrain\n",
      "        Number of Visual Observations (per agent): 0\n",
      "        Vector Observation space type: continuous\n",
      "        Vector Observation space size (per agent): 8\n",
      "        Number of stacked Vector Observation: 3\n",
      "        Vector Action space type: continuous\n",
      "        Vector Action space size (per agent): 2\n",
      "        Vector Action descriptions: , \n"
     ]
    },
    {
     "name": "stdout",
     "output_type": "stream",
     "text": [
      "Exploring Unity environment...\n",
      "Selected brain name:  TennisBrain\n",
      "Selected brain:       Unity brain name: TennisBrain\n",
      "        Number of Visual Observations (per agent): 0\n",
      "        Vector Observation space type: continuous\n",
      "        Vector Observation space size (per agent): 8\n",
      "        Number of stacked Vector Observation: 3\n",
      "        Vector Action space type: continuous\n",
      "        Vector Action space size (per agent): 2\n",
      "        Vector Action descriptions: , \n",
      "Number of actions:    2\n",
      "Number of agents:     2\n",
      "States have shape:    (24,)\n",
      "State of agent 0 look like:\n",
      " [  0.000   0.000   0.000   0.000   0.000   0.000   0.000   0.000   0.000   0.000   0.000   0.000   0.000   0.000   0.000   0.000  -6.638  -1.500  -0.000   0.000   6.001   6.000  -0.000   0.000]\n",
      "State of agent 1 look like:\n",
      " [  0.000   0.000   0.000   0.000   0.000   0.000   0.000   0.000   0.000   0.000   0.000   0.000   0.000   0.000   0.000   0.000  -7.079  -1.500   0.000   0.000  -6.001   6.000   0.000   0.000]\n",
      "Initializing DDPG_Agent with PyTorch device named: cuda:0\n",
      "replay_buffer_size = 1000000\n",
      "replay_batch_size  = 128\n",
      "seed               = 1\n",
      "gamma              = 0.95\n",
      "tau                = 0.001\n",
      "update_every       = 4\n",
      "update_times       = 1\n",
      "lr_actor           = 1e-05\n",
      "lr_critic          = 1e-06\n",
      "actor_clip_grad    = None\n",
      "critic_clip_grad   = None\n",
      "noise_sigma        = 0.2\n",
      "noise_theta        = 0.1\n",
      "no_reward_value    = -0.001\n",
      "actor_arch         = ['b', 128, 'b', 'r', 64, 'b', 'r']\n",
      "critic_arch        = [['b', 128, 'b', 'r', 64], ['b', 64, 'b', 'r', 32], ['b', 'r', 64, 'b', 'r', 1]]\n",
      "Initializing Actor to:\n",
      " ModuleListUtil(\n",
      "  (0): BatchNorm1d(24, eps=1e-05, momentum=0.1, affine=True, track_running_stats=True)\n",
      "  (1): Linear(in_features=24, out_features=128, bias=True)\n",
      "  (2): BatchNorm1d(128, eps=1e-05, momentum=0.1, affine=True, track_running_stats=True)\n",
      "  (3): LeakyReLU(negative_slope=0.01)\n",
      "  (4): Linear(in_features=128, out_features=64, bias=True)\n",
      "  (5): BatchNorm1d(64, eps=1e-05, momentum=0.1, affine=True, track_running_stats=True)\n",
      "  (6): LeakyReLU(negative_slope=0.01)\n",
      "  (7): Linear(in_features=64, out_features=2, bias=True)\n",
      ")\n",
      "Initializing Critic state layers to:\n",
      " ModuleListUtil(\n",
      "  (0): BatchNorm1d(24, eps=1e-05, momentum=0.1, affine=True, track_running_stats=True)\n",
      "  (1): Linear(in_features=24, out_features=128, bias=True)\n",
      "  (2): BatchNorm1d(128, eps=1e-05, momentum=0.1, affine=True, track_running_stats=True)\n",
      "  (3): LeakyReLU(negative_slope=0.01)\n",
      "  (4): Linear(in_features=128, out_features=64, bias=True)\n",
      ")\n",
      "Initializing Critic action layers to:\n",
      " ModuleListUtil(\n",
      "  (0): BatchNorm1d(2, eps=1e-05, momentum=0.1, affine=True, track_running_stats=True)\n",
      "  (1): Linear(in_features=2, out_features=64, bias=True)\n",
      "  (2): BatchNorm1d(64, eps=1e-05, momentum=0.1, affine=True, track_running_stats=True)\n",
      "  (3): LeakyReLU(negative_slope=0.01)\n",
      "  (4): Linear(in_features=64, out_features=32, bias=True)\n",
      ")\n",
      "Initializing Critic combine layers to:\n",
      " ModuleListUtil(\n",
      "  (0): BatchNorm1d(192, eps=1e-05, momentum=0.1, affine=True, track_running_stats=True)\n",
      "  (1): LeakyReLU(negative_slope=0.01)\n",
      "  (2): Linear(in_features=192, out_features=64, bias=True)\n",
      "  (3): BatchNorm1d(64, eps=1e-05, momentum=0.1, affine=True, track_running_stats=True)\n",
      "  (4): LeakyReLU(negative_slope=0.01)\n",
      "  (5): Linear(in_features=64, out_features=1, bias=True)\n",
      ")\n"
     ]
    }
   ],
   "source": [
    "env = unity_env(file_name=\"Tennis_Windows_x86_64/Tennis.exe\", no_graphics=True, score_goal=0.5, verbose_level=1,\\\n",
    "                set_modify_state=None) # fix_state4\n",
    "\n",
    "    \n",
    "agent = Multi_MA_DDPG(state_shape = env.state_shape, action_size = env.action_size, num_agents=env.num_agents,\\\n",
    "                       seed=1,\\\n",
    "                       replay_buffer_size = int(1e6),\\\n",
    "                       replay_batch_size =128,\\\n",
    "                      duplicate_augmented_times=1,\\\n",
    "                      set_modify_batch=None,\\\n",
    "                      # modify_batch4_abs\n",
    "                       update_every=4,\\\n",
    "                       update_times=1,\\\n",
    "                       lr_actor=1e-5,\\\n",
    "                       lr_critic=1e-6,\\\n",
    "                       noise_sigma=0.2,\\\n",
    "                       noise_theta=0.1,\\\n",
    "                       no_reward_value = -0.001,\\\n",
    "                      # -0.02,\\\n",
    "                       actor_arch = ['b',128,'b','r',64,'b','r'],\\\n",
    "                       critic_arch = [['b',128,'b','r',64],['b',64,'b','r',32],['b','r',64,'b','r',1]],\\\n",
    "                       gamma = 0.95,\\\n",
    "                       use_cuda=True, verbose_level=2)\n",
    "\n",
    "output_name = \"results\""
   ]
  },
  {
   "cell_type": "code",
   "execution_count": null,
   "metadata": {},
   "outputs": [
    {
     "name": "stdout",
     "output_type": "stream",
     "text": [
      "Training DDPG agent:\n",
      "output_filename    = results\n",
      "noise_minimal      = 0.01\n",
      "noise_decay        = 0.995\n",
      "num_episode_search = 500\n",
      "max_num_episodes   = 10000\n",
      "score_window_size  = 100\n",
      "Episode 519 curr=-0.01 \tAverage=0.000 Stdev=0.000 Composite=0.000 Max=0.000 \tbest len=7370 long_term len=0 highest=-0.01 "
     ]
    }
   ],
   "source": [
    "agent.reset()\n",
    "all_scores, best_test_score, best_test_average, best_test_stdev = env.train(agent,output_name,num_episode_search=500,noise_decay=0.995)\n"
   ]
  },
  {
   "cell_type": "markdown",
   "metadata": {},
   "source": [
    "## plot the scores"
   ]
  },
  {
   "cell_type": "code",
   "execution_count": null,
   "metadata": {},
   "outputs": [],
   "source": [
    "fig = plt.figure()\n",
    "ax  = fig.add_subplot(111)\n",
    "plt.plot(np.arange(len(all_scores)), all_scores)\n",
    "plt.ylabel('Score')\n",
    "plt.xlabel('Train Episode #')\n",
    "plt.show()"
   ]
  },
  {
   "cell_type": "code",
   "execution_count": null,
   "metadata": {},
   "outputs": [],
   "source": [
    "agent.load(output_name)\n",
    "test_composite, test_mean, test_stdev, test_scores = env.test_agent_on_many_episodes(agent)\n",
    "print(\"Final Test scores on {} episodes:\".format(len(test_scores)))\n",
    "print(\"Mean score:    \",test_mean)\n",
    "print(\"Std.Dev. score:\",test_stdev)\n",
    "\n",
    "env.test_agent_on_single_episode(agent)"
   ]
  },
  {
   "cell_type": "code",
   "execution_count": null,
   "metadata": {},
   "outputs": [],
   "source": []
  }
 ],
 "metadata": {
  "kernelspec": {
   "display_name": "drlnd",
   "language": "python",
   "name": "drlnd"
  },
  "language_info": {
   "codemirror_mode": {
    "name": "ipython",
    "version": 3
   },
   "file_extension": ".py",
   "mimetype": "text/x-python",
   "name": "python",
   "nbconvert_exporter": "python",
   "pygments_lexer": "ipython3",
   "version": "3.6.10"
  }
 },
 "nbformat": 4,
 "nbformat_minor": 4
}
