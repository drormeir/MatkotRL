{
 "cells": [
  {
   "cell_type": "code",
   "execution_count": 1,
   "metadata": {},
   "outputs": [
    {
     "data": {
      "text/html": [
       "<style>.container { width:100% !important; }</style>"
      ],
      "text/plain": [
       "<IPython.core.display.HTML object>"
      ]
     },
     "metadata": {},
     "output_type": "display_data"
    }
   ],
   "source": [
    "from IPython.core.display import display, HTML\n",
    "display(HTML(\"<style>.container { width:100% !important; }</style>\"))\n",
    "\n",
    "import numpy as np\n",
    "import matplotlib.pyplot as plt\n",
    "%matplotlib inline\n",
    "\n",
    "from unity_environment_wrapper import unity_env\n",
    "from DDPG_agent import DDPG_Agent\n"
   ]
  },
  {
   "cell_type": "code",
   "execution_count": 2,
   "metadata": {},
   "outputs": [
    {
     "name": "stderr",
     "output_type": "stream",
     "text": [
      "INFO:unityagents:\n",
      "'Academy' started successfully!\n",
      "Unity Academy name: Academy\n",
      "        Number of Brains: 1\n",
      "        Number of External Brains : 1\n",
      "        Lesson number : 0\n",
      "        Reset Parameters :\n",
      "\t\t\n",
      "Unity brain name: TennisBrain\n",
      "        Number of Visual Observations (per agent): 0\n",
      "        Vector Observation space type: continuous\n",
      "        Vector Observation space size (per agent): 8\n",
      "        Number of stacked Vector Observation: 3\n",
      "        Vector Action space type: continuous\n",
      "        Vector Action space size (per agent): 2\n",
      "        Vector Action descriptions: , \n"
     ]
    },
    {
     "name": "stdout",
     "output_type": "stream",
     "text": [
      "Exploring Unity environment...\n",
      "Selected brain name:  TennisBrain\n",
      "Selected brain:       Unity brain name: TennisBrain\n",
      "        Number of Visual Observations (per agent): 0\n",
      "        Vector Observation space type: continuous\n",
      "        Vector Observation space size (per agent): 8\n",
      "        Number of stacked Vector Observation: 3\n",
      "        Vector Action space type: continuous\n",
      "        Vector Action space size (per agent): 2\n",
      "        Vector Action descriptions: , \n",
      "Number of actions:    2\n",
      "Number of agents:     2\n",
      "States have shape:    (24,)\n",
      "State of agent 0 look like:\n",
      " [ 0.          0.          0.          0.          0.          0.\n",
      "  0.          0.          0.          0.          0.          0.\n",
      "  0.          0.          0.          0.         -6.65278625 -1.5\n",
      " -0.          0.          6.83172083  6.         -0.          0.        ]\n",
      "State of agent 1 look like:\n",
      " [ 0.          0.          0.          0.          0.          0.\n",
      "  0.          0.          0.          0.          0.          0.\n",
      "  0.          0.          0.          0.         -6.4669857  -1.5\n",
      "  0.          0.         -6.83172083  6.          0.          0.        ]\n"
     ]
    }
   ],
   "source": [
    "env = unity_env(file_name=\"Tennis_Windows_x86_64/Tennis.exe\", no_graphics=True, verbose_level=1)"
   ]
  },
  {
   "cell_type": "code",
   "execution_count": 3,
   "metadata": {},
   "outputs": [
    {
     "name": "stdout",
     "output_type": "stream",
     "text": [
      "Initializing DDPG_Agent with PyTorch device named: cuda:0\n",
      "replay_buffer_size = 1000000\n",
      "replay_batch_size  = 128\n",
      "random_seed        = 1\n",
      "gamma              = 0.95\n",
      "tau                = 0.001\n",
      "update_every       = 20\n",
      "update_times       = 4\n",
      "lr_actor           = 0.0001\n",
      "lr_critic          = 0.001\n",
      "actor_clip_grad    = None\n",
      "critic_clip_grad   = None\n",
      "noise_sigma        = 0.2\n",
      "noise_theta        = 0.15\n",
      "no_reward_value    = -0.1\n",
      "no_reward_dropout  = 0.9\n",
      "actor_arch         = ['b', 128, 'b', 'r', 256, 'b', 'r']\n",
      "critic_arch        = [['b', 128], ['b', 64], ['b', 'r', 256, 'b', 'r']]\n"
     ]
    }
   ],
   "source": [
    "agent = DDPG_Agent(state_shape = env.state_shape, action_size = env.action_size, num_agents=env.num_agents,\\\n",
    "                   random_seed=1,\\\n",
    "                   replay_buffer_size = int(1e6),\\\n",
    "                   replay_batch_size =128,\\\n",
    "                   update_every=20,\\\n",
    "                   update_times=4,\\\n",
    "                   lr_actor=1e-4,\\\n",
    "                   lr_critic=1e-3,\\\n",
    "                   noise_sigma=0.2,\\\n",
    "                   noise_theta=0.15,\\\n",
    "                   no_reward_dropout  = 0.9,\\\n",
    "                   no_reward_value = -0.1,\\\n",
    "                   actor_arch = ['b',128,'b','r',256,'b','r'],\\\n",
    "                   critic_arch = [['b',128],['b',64],['b','r',256,'b','r']],\\\n",
    "                   gamma = 0.95,\\\n",
    "                   use_cuda=True, verbose_level=2)\n",
    "\n",
    "output_name = \"results\""
   ]
  },
  {
   "cell_type": "code",
   "execution_count": null,
   "metadata": {
    "scrolled": false
   },
   "outputs": [],
   "source": [
    "all_scores, best_test_score, best_test_average, best_test_stdev = env.train(agent,output_name,num_episode_search=500)"
   ]
  },
  {
   "cell_type": "markdown",
   "metadata": {},
   "source": [
    "## plot the scores"
   ]
  },
  {
   "cell_type": "code",
   "execution_count": null,
   "metadata": {},
   "outputs": [],
   "source": [
    "fig = plt.figure()\n",
    "ax  = fig.add_subplot(111)\n",
    "plt.plot(np.arange(len(all_scores)), all_scores)\n",
    "plt.ylabel('Score')\n",
    "plt.xlabel('Train Episode #')\n",
    "plt.show()"
   ]
  },
  {
   "cell_type": "code",
   "execution_count": null,
   "metadata": {},
   "outputs": [],
   "source": [
    "agent.load(output_name)\n",
    "test_composite, test_mean, test_stdev, test_scores = env.test_agent_on_many_episodes(agent)\n",
    "print(\"Final Test scores on {} episodes:\".format(len(test_scores)))\n",
    "print(\"Mean score:    \",test_mean)\n",
    "print(\"Std.Dev. score:\",test_stdev)\n",
    "\n",
    "env.test_agent_on_single_episode(agent)"
   ]
  },
  {
   "cell_type": "code",
   "execution_count": null,
   "metadata": {},
   "outputs": [],
   "source": []
  }
 ],
 "metadata": {
  "kernelspec": {
   "display_name": "drlnd",
   "language": "python",
   "name": "drlnd"
  },
  "language_info": {
   "codemirror_mode": {
    "name": "ipython",
    "version": 3
   },
   "file_extension": ".py",
   "mimetype": "text/x-python",
   "name": "python",
   "nbconvert_exporter": "python",
   "pygments_lexer": "ipython3",
   "version": "3.6.10"
  }
 },
 "nbformat": 4,
 "nbformat_minor": 4
}
