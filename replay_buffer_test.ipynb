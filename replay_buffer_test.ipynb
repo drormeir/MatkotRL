{
 "cells": [
  {
   "cell_type": "code",
   "execution_count": 4,
   "metadata": {},
   "outputs": [],
   "source": [
    "from replay_buffer import EpisodesReplayBuffer\n",
    "import numpy as np"
   ]
  },
  {
   "cell_type": "code",
   "execution_count": 5,
   "metadata": {},
   "outputs": [],
   "source": [
    "state_shape=10\n",
    "action_size=2\n",
    "num_agents=2\n",
    "action_type=np.float32\n",
    "buffer_size=1e5\n",
    "batch_size=128\n",
    "seed=0\n",
    "force_reward1=True\n",
    "duplicate_augmented_batch=1\n",
    "set_modify_batch=None\n",
    "no_reward_value=-0.001\n",
    "pytorch_device=None"
   ]
  },
  {
   "cell_type": "code",
   "execution_count": 6,
   "metadata": {},
   "outputs": [],
   "source": [
    "memory     = EpisodesReplayBuffer(state_shape=state_shape, action_size=action_size, num_agents=num_agents,\\\n",
    "                                  action_type=action_type, buffer_size=buffer_size, batch_size=batch_size, seed=seed,\\\n",
    "                                  force_reward1=force_reward1, duplicate_augmented_batch=duplicate_augmented_batch,\\\n",
    "                                  set_modify_batch=set_modify_batch, no_reward_value=no_reward_value,\\\n",
    "                                  pytorch_device=pytorch_device)"
   ]
  },
  {
   "cell_type": "code",
   "execution_count": null,
   "metadata": {},
   "outputs": [],
   "source": []
  }
 ],
 "metadata": {
  "kernelspec": {
   "display_name": "drlnd",
   "language": "python",
   "name": "drlnd"
  },
  "language_info": {
   "codemirror_mode": {
    "name": "ipython",
    "version": 3
   },
   "file_extension": ".py",
   "mimetype": "text/x-python",
   "name": "python",
   "nbconvert_exporter": "python",
   "pygments_lexer": "ipython3",
   "version": "3.6.10"
  }
 },
 "nbformat": 4,
 "nbformat_minor": 4
}
